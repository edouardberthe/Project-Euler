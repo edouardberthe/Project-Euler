{
 "cells": [
  {
   "cell_type": "code",
   "execution_count": 1,
   "metadata": {},
   "outputs": [],
   "source": [
    "import math\n",
    "import itertools\n",
    "\n",
    "def is_prime(n):\n",
    "    if n < 2:\n",
    "        return False\n",
    "    for i in range(2, int(math.sqrt(n))+1):\n",
    "        if n % i == 0:\n",
    "            return False\n",
    "    return True"
   ]
  },
  {
   "cell_type": "code",
   "execution_count": 2,
   "metadata": {},
   "outputs": [
    {
     "name": "stdout",
     "output_type": "stream",
     "text": [
      "0 is not prime.\n",
      "1 is not prime.\n",
      "2 is  prime.\n",
      "3 is  prime.\n",
      "4 is not prime.\n",
      "5 is  prime.\n",
      "6 is not prime.\n",
      "7 is  prime.\n",
      "8 is not prime.\n",
      "9 is not prime.\n",
      "10 is not prime.\n",
      "11 is  prime.\n",
      "12 is not prime.\n",
      "13 is  prime.\n",
      "14 is not prime.\n",
      "15 is not prime.\n",
      "16 is not prime.\n",
      "17 is  prime.\n",
      "18 is not prime.\n",
      "19 is  prime.\n"
     ]
    }
   ],
   "source": [
    "for i in range(20):\n",
    "    print(f\"{i} is {'' if is_prime(i) else 'not'} prime.\")"
   ]
  },
  {
   "cell_type": "code",
   "execution_count": 4,
   "metadata": {},
   "outputs": [],
   "source": [
    "def rec(digits):\n",
    "    for i in range(1,len(digits)):\n",
    "        p = int(\"\".join(digits[:i]))\n",
    "        if is_prime(p):\n",
    "            yield [p] + rec(digits[i:])"
   ]
  },
  {
   "cell_type": "code",
   "execution_count": 68,
   "metadata": {
    "scrolled": true
   },
   "outputs": [],
   "source": [
    "def primes_with(digits):\n",
    "    c = digits[0]\n",
    "    queue = digits[1:]\n",
    "    for i in range(len(queue)+1):\n",
    "        for subset in itertools.permutations(queue, i):\n",
    "            left = [j for j in queue if j not in subset]\n",
    "            for j in range(len(subset)+1):\n",
    "                p = int(\"\".join(subset[:j] + (c,) + subset[j:]))\n",
    "                if is_prime(p):\n",
    "                    yield p, left"
   ]
  },
  {
   "cell_type": "code",
   "execution_count": 70,
   "metadata": {},
   "outputs": [
    {
     "data": {
      "text/plain": [
       "[(13, ['2', '4']),\n",
       " (31, ['2', '4']),\n",
       " (41, ['2', '3']),\n",
       " (241, ['3']),\n",
       " (421, ['3']),\n",
       " (431, ['2']),\n",
       " (2341, []),\n",
       " (2143, []),\n",
       " (1423, []),\n",
       " (4231, [])]"
      ]
     },
     "execution_count": 70,
     "metadata": {},
     "output_type": "execute_result"
    }
   ],
   "source": [
    "digits = [str(d) for d in range(1,5)]\n",
    "list(primes_with(digits))"
   ]
  },
  {
   "cell_type": "code",
   "execution_count": 80,
   "metadata": {},
   "outputs": [],
   "source": [
    "def rec(digits):\n",
    "    for p, l in primes_with(digits):\n",
    "        if l == []:\n",
    "            yield [p]\n",
    "        else:\n",
    "            for i in rec(l):\n",
    "                yield [p] + i"
   ]
  },
  {
   "cell_type": "code",
   "execution_count": 86,
   "metadata": {},
   "outputs": [
    {
     "name": "stdout",
     "output_type": "stream",
     "text": [
      "['1', '2', '3', '4', '5', '6', '7', '8', '9']\n",
      "44680\n"
     ]
    }
   ],
   "source": [
    "digits = [str(d) for d in range(1,10)]\n",
    "print(digits)\n",
    "count = 0\n",
    "for i in rec(digits):\n",
    "    count += 1\n",
    "print(count)"
   ]
  },
  {
   "cell_type": "code",
   "execution_count": null,
   "metadata": {},
   "outputs": [],
   "source": []
  }
 ],
 "metadata": {
  "kernelspec": {
   "display_name": "Python 3",
   "language": "python",
   "name": "python3"
  },
  "language_info": {
   "codemirror_mode": {
    "name": "ipython",
    "version": 3
   },
   "file_extension": ".py",
   "mimetype": "text/x-python",
   "name": "python",
   "nbconvert_exporter": "python",
   "pygments_lexer": "ipython3",
   "version": "3.7.1"
  }
 },
 "nbformat": 4,
 "nbformat_minor": 2
}
