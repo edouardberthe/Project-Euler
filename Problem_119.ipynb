{
 "cells": [
  {
   "cell_type": "code",
   "execution_count": 2,
   "metadata": {},
   "outputs": [],
   "source": [
    "a = set()\n",
    "def rec(n: int) -> (int, list):\n",
    "    if n == 2:\n",
    "        return 1, [1, 2]\n",
    "    for i in range(1, n//2+1):\n",
    "        n1, l1 = rec(i)\n",
    "        n2, l2 = rec(n-i)"
   ]
  },
  {
   "cell_type": "code",
   "execution_count": 27,
   "metadata": {
    "scrolled": true
   },
   "outputs": [
    {
     "name": "stdout",
     "output_type": "stream",
     "text": [
      "p = 2\n",
      "p = 3\n",
      "p = 4\n",
      "p = 5\n",
      "p = 6\n",
      "p = 7\n",
      "p = 8\n",
      "p = 9\n"
     ]
    }
   ],
   "source": [
    "d = {1: 1}\n",
    "found = [1]\n",
    "for p in range(2, 10):\n",
    "    print(f\"p = {p}\")\n",
    "    l = list(d.keys())\n",
    "    for i in l:\n",
    "        for j in l:\n",
    "            s = i + j\n",
    "            if s not in l or d[s] > p:\n",
    "                d[s] = p"
   ]
  },
  {
   "cell_type": "code",
   "execution_count": null,
   "metadata": {},
   "outputs": [],
   "source": []
  }
 ],
 "metadata": {
  "kernelspec": {
   "display_name": "Python 3",
   "language": "python",
   "name": "python3"
  },
  "language_info": {
   "codemirror_mode": {
    "name": "ipython",
    "version": 3
   },
   "file_extension": ".py",
   "mimetype": "text/x-python",
   "name": "python",
   "nbconvert_exporter": "python",
   "pygments_lexer": "ipython3",
   "version": "3.7.1"
  }
 },
 "nbformat": 4,
 "nbformat_minor": 2
}
